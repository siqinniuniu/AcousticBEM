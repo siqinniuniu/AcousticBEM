{
 "cells": [
  {
   "cell_type": "code",
   "execution_count": null,
   "metadata": {
    "scrolled": false
   },
   "outputs": [],
   "source": [
    "import numpy as np\n",
    "from ExampleBoundaries import disk_3d\n",
    "from AcousticProperties import *\n",
    "from RayleighSolver import *\n",
    "\n",
    "import matplotlib.pyplot as plt\n",
    "%matplotlib inline\n",
    "\n",
    "def plot_velocity_potential(title, x, bem, ana):\n",
    "    plt.rcParams['figure.figsize'] = [15, 10]\n",
    "    plt.title(title)\n",
    "    BEM, = plt.plot(x, bem, 'o',  label = 'numerical')\n",
    "    ANA, = plt.plot(x, ana, '--', label = 'analytical')\n",
    "    plt.xlabel('x-coordinate')\n",
    "    plt.ylabel('Velocity Potential')\n",
    "    plt.legend(handles=[BEM, ANA], loc = 'lower right')\n",
    "    plt.show()\n",
    "\n",
    "def analytical_phis(k, density, c, velocity, r, x):\n",
    "    y = np.subtract(x, 1.0)\n",
    "    const = -1j * velocity / k\n",
    "    variable = np.exp(np.multiply(1j * k, y)) - np.exp(1j * k * np.sqrt(np.square(r) + np.square(y)))\n",
    "    return const * variable\n",
    "\n",
    "def numerical_phis(k, velocity, mesh, samples):\n",
    "    solver = RayleighSolver3D(mesh)\n",
    "    boundary_condition = solver.neumann_boundary_condition()\n",
    "    boundary_condition.f.fill(velocity)\n",
    "\n",
    "    boundary_solution = solver.solve_boundary(k, boundary_condition)\n",
    "    return boundary_solution.solve_samples(samples)\n",
    "\n",
    "exterior_points = np.zeros((100, 3), dtype=np.float32)\n",
    "exterior_points[:,0] = np.linspace(1.01, 2.0, num=100)\n",
    "\n",
    "\n",
    "# Test Problem 1\n",
    "\n",
    "k = 10.0 # Wavenumber\n",
    "frequency = wavenumber_to_frequency(k)\n",
    "velocity = 1.0 # piston velocity\n",
    "c = 344.0\n",
    "density = 1.205\n",
    "\n",
    "num_phis = numerical_phis(k, velocity, disk_3d(), exterior_points)\n",
    "\n",
    "x = exterior_points[:, 0]\n",
    "ana_phis = analytical_phis(k, density, c, velocity, 0.1, x)\n",
    "\n",
    "plot_velocity_potential('Real Phi [k = 10]',      x, num_phis.real, ana_phis.real)\n",
    "plot_velocity_potential('Imaginary Phi [k = 10]', x, num_phis.imag, ana_phis.imag)\n",
    "\n",
    "\n",
    "# Test Problem 2\n",
    "\n",
    "k = 25.0 # Wavenumber\n",
    "frequency = wavenumber_to_frequency(k)\n",
    "\n",
    "num_phis = numerical_phis(k, velocity, disk_3d(), exterior_points)\n",
    "\n",
    "x = exterior_points[:, 0]\n",
    "ana_phis = analytical_phis(k, density, c, velocity, 0.1, x)\n",
    "\n",
    "plot_velocity_potential('Real Phi [k = 10]',      x, num_phis.real, ana_phis.real)\n",
    "plot_velocity_potential('Imaginary Phi [k = 10]', x, num_phis.imag, ana_phis.imag)\n"
   ]
  },
  {
   "cell_type": "markdown",
   "metadata": {},
   "source": [
    "Copyright (C) 2019 Frank Jargstorff\n",
    "\n",
    "This file is part of the AcousticBEM library.\n",
    "\n",
    "AcousticBEM is free software: you can redistribute it and/or modify it under the terms of the GNU General Public License as published by the Free Software Foundation, either version 3 of the License, or (at your option) any later version.\n",
    "\n",
    "AcousticBEM is distributed in the hope that it will be useful, but WITHOUT ANY WARRANTY; without even the implied warranty of MERCHANTABILITY or FITNESS FOR A PARTICULAR PURPOSE. See the GNU General Public License for more details.\n",
    "\n",
    "You should have received a copy of the GNU General Public License along with AcousticBEM. If not, see http://www.gnu.org/licenses/."
   ]
  }
 ],
 "metadata": {
  "kernelspec": {
   "display_name": "Python 3",
   "language": "python",
   "name": "python3"
  },
  "language_info": {
   "codemirror_mode": {
    "name": "ipython",
    "version": 3
   },
   "file_extension": ".py",
   "mimetype": "text/x-python",
   "name": "python",
   "nbconvert_exporter": "python",
   "pygments_lexer": "ipython3",
   "version": "3.6.8"
  }
 },
 "nbformat": 4,
 "nbformat_minor": 2
}
