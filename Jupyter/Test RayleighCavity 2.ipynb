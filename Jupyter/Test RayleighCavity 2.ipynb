{
 "cells": [
  {
   "cell_type": "code",
   "execution_count": 1,
   "metadata": {},
   "outputs": [
    {
     "name": "stdout",
     "output_type": "stream",
     "text": [
      "numberOfElements = 9\n",
      "numberOfInterfaceElements = 5\n",
      "Density of medium:      1.205 kg/m^3\n",
      "Speed of sound:         344.0 m/s\n",
      "Wavenumber (Frequency): 0.18265073567382517 (10.0 Hz)\n",
      "\n",
      "index          Potential                   Pressure                    Velocity              Intensity\n",
      "\n",
      "    1  -1.9001e+00+ -2.0318e-01i    1.5383e+01+ -1.4386e+02i    1.5680e+00+  2.9613e-03i     1.1847e+01\n",
      "    2  -1.8757e+00+ -2.0307e-01i    1.5375e+01+ -1.4202e+02i    1.5199e+00+  3.0768e-03i     1.1466e+01\n",
      "    3  -1.8418e+00+ -2.0285e-01i    1.5358e+01+ -1.3945e+02i    1.5965e+00+  3.3232e-03i     1.2028e+01\n",
      "    4  -1.7928e+00+ -2.0250e-01i    1.5332e+01+ -1.3574e+02i    1.7596e+00+  3.7238e-03i     1.3236e+01\n",
      "    5  -1.7153e+00+ -2.0200e-01i    1.5294e+01+ -1.2987e+02i    3.1437e+00+  6.7831e-03i     2.3599e+01\n",
      "    6  -1.9902e+00+ -2.0245e-01i    1.5328e+01+ -1.5068e+02i   -1.0000e+00+  0.0000e+00i    -7.6638e+00\n",
      "    7  -2.3400e+00+ -2.0317e-01i    1.5382e+01+ -1.7717e+02i   -1.0000e+00+  0.0000e+00i    -7.6912e+00\n",
      "    8  -2.5917e+00+ -2.0369e-01i    1.5422e+01+ -1.9623e+02i   -1.0000e+00+  0.0000e+00i    -7.7109e+00\n",
      "    9  -2.7862e+00+ -2.0408e-01i    1.5452e+01+ -2.1095e+02i   -1.0000e+00+  0.0000e+00i    -7.7258e+00\n",
      "   10  -2.9399e+00+ -2.0438e-01i    1.5474e+01+ -2.2259e+02i   -1.0000e+00+  0.0000e+00i    -7.7370e+00\n",
      "   11  -3.0633e+00+ -2.0459e-01i    1.5490e+01+ -2.3193e+02i   -1.0000e+00+  0.0000e+00i    -7.7451e+00\n",
      "   12  -3.1641e+00+ -2.0474e-01i    1.5501e+01+ -2.3956e+02i   -1.0000e+00+  0.0000e+00i    -7.7507e+00\n",
      "   13  -3.2392e+00+ -2.0453e-01i    1.5485e+01+ -2.4525e+02i   -1.0000e+00+  0.0000e+00i    -7.7427e+00\n",
      "   14  -2.7540e+00+ -2.0651e-01i    1.5635e+01+ -2.0852e+02i   -1.0000e+00+  0.0000e+00i    -7.8175e+00\n",
      "\n",
      "Sound pressure at the interior points\n",
      "\n",
      "index          Potential                    Pressure               Magnitude         Phase\n",
      "\n",
      "    1  -3.0968e-01+  9.3194e-04i   -7.0560e-02+ -2.3446e+01i     1.2138e+02 dB       -1.5738\n",
      "    2  -3.9776e-01+ -1.1414e-02i    8.6415e-01+ -3.0116e+01i     1.2356e+02 dB       -1.5421\n",
      "    3  -6.1589e-01+ -4.5963e-02i    3.4800e+00+ -4.6630e+01i     1.2738e+02 dB       -1.4963\n",
      "    4  -8.3281e-01+ -8.4884e-02i    6.4268e+00+ -6.3054e+01i     1.3002e+02 dB       -1.4692\n",
      "    5   6.5060e+00+  4.4287e-01i   -3.3531e+01+  4.9258e+02i     1.4785e+02 dB       1.6388\n",
      "\n",
      "Sound pressure at the exterior points\n",
      "\n",
      "index          Potential                    Pressure               Magnitude         Phase\n",
      "\n",
      "    1  -1.7528e+00+ -2.0289e-01i    1.5361e+01+ -1.3271e+02i     1.3650e+02 dB       -1.4556\n",
      "    2  -1.4838e+00+ -2.0226e-01i    1.5314e+01+ -1.1234e+02i     1.3507e+02 dB       -1.4353\n",
      "    3  -1.2577e+00+ -2.0162e-01i    1.5265e+01+ -9.5224e+01i     1.3366e+02 dB       -1.4118\n",
      "    4  -1.0723e+00+ -2.0097e-01i    1.5216e+01+ -8.1183e+01i     1.3232e+02 dB       -1.3855\n",
      "    5  -9.2226e-01+ -2.0030e-01i    1.5165e+01+ -6.9826e+01i     1.3106e+02 dB       -1.3569\n",
      "\n"
     ]
    }
   ],
   "source": [
    "import numpy as np\n",
    "from ExampleBoundaries import TruncatedSphereRAD\n",
    "from AcousticProperties import *\n",
    "from RayleighCavitySolverRAD import *\n",
    "\n",
    "import matplotlib.pyplot as plt\n",
    "%matplotlib inline\n",
    "\n",
    "f = 10.0 # Hertz\n",
    "k = frequencyToWavenumber(f)\n",
    "\n",
    "solver = RayleighCavitySolverRAD(TruncatedSphereRAD())\n",
    "print(\"numberOfElements = {}\".format(solver.numberOfElements()))\n",
    "print(\"numberOfInterfaceElements = {}\".format(solver.numberOfInterfaceElements()))\n",
    "\n",
    "boundaryCondition = solver.neumannBoundaryCondition()\n",
    "boundaryCondition.f.fill(-1.0)\n",
    "\n",
    "exteriorPoints = np.array([[0.000, 0.100],\n",
    "                           [0.000, 0.300],\n",
    "                           [0.000, 0.500],\n",
    "                           [0.000, 0.700],\n",
    "                           [0.000, 0.900]], dtype=np.float32)\n",
    "\n",
    "interiorPoints = np.array([[0.000, -0.900],\n",
    "                           [0.000, -0.700],\n",
    "                           [0.000, -0.500],\n",
    "                           [0.000, -0.300],\n",
    "                           [0.000, -0.100]], dtype=np.float32)\n",
    "\n",
    "solution = solver.solveBoundary(k, boundaryCondition)\n",
    "\n",
    "print(solution)\n",
    "\n",
    "interiorPhi = solution.solveCavity(interiorPoints)\n",
    "print(\"Sound pressure at the interior points\\n\")\n",
    "print(interiorPhi)\n",
    "\n",
    "exteriorPhi = solution.solveSamples(exteriorPoints)\n",
    "print(\"Sound pressure at the exterior points\\n\")\n",
    "print(exteriorPhi)"
   ]
  },
  {
   "cell_type": "code",
   "execution_count": 2,
   "metadata": {},
   "outputs": [
    {
     "data": {
      "text/plain": [
       "Text(0,0.5,'z-coordinate')"
      ]
     },
     "execution_count": 2,
     "metadata": {},
     "output_type": "execute_result"
    },
    {
     "data": {
      "image/png": "[encoded data removed]",
      "text/plain": [
       "<Figure size 1080x720 with 1 Axes>"
      ]
     },
     "metadata": {
      "needs_background": "light"
     },
     "output_type": "display_data"
    }
   ],
   "source": [
    "oChain = TruncatedSphereRAD()\n",
    "fig, ax = plt.subplots(figsize = (15, 10))\n",
    "ax.plot(oChain.aVertex[:,0], oChain.aVertex[:,1], 'D', label='verts')\n",
    "ax.set_aspect('equal', 'datalim')\n",
    "ax.set_xlabel('r-coordinate')\n",
    "ax.set_ylabel('z-coordinate')\n"
   ]
  },
  {
   "cell_type": "code",
   "execution_count": null,
   "metadata": {},
   "outputs": [],
   "source": []
  }
 ],
 "metadata": {
  "kernelspec": {
   "display_name": "Python 3",
   "language": "python",
   "name": "python3"
  },
  "language_info": {
   "codemirror_mode": {
    "name": "ipython",
    "version": 3
   },
   "file_extension": ".py",
   "mimetype": "text/x-python",
   "name": "python",
   "nbconvert_exporter": "python",
   "pygments_lexer": "ipython3",
   "version": "3.6.5"
  }
 },
 "nbformat": 4,
 "nbformat_minor": 2
}
