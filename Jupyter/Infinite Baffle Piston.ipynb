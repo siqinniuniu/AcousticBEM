{
 "cells": [
  {
   "cell_type": "code",
   "execution_count": null,
   "metadata": {
    "scrolled": false
   },
   "outputs": [],
   "source": [
    "import numpy as np\n",
    "from ExampleBoundaries import Disk3D\n",
    "from AcousticProperties import *\n",
    "from RayleighSolver import *\n",
    "import matplotlib.pyplot as plt\n",
    "%matplotlib inline\n",
    "\n",
    "import bokeh\n",
    "\n",
    "samples = 256\n",
    "distance = 0.5\n",
    "angles = np.linspace(-0.5 * np.pi, 0.5 * np.pi, num=samples)\n",
    "\n",
    "samplePoints = np.empty((samples, 3), dtype=np.float32)\n",
    "samplePoints[:,0] = 1 + np.cos(angles) * distance\n",
    "samplePoints[:,1] = -np.sin(angles) * distance\n",
    "samplePoints[:,2] = np.zeros(samples)\n",
    "\n",
    "k = 100.0 # Wavenumber\n",
    "frequency = wavenumberToFrequency(k)\n",
    "print(\"f = {} Hz\".format(frequency))\n",
    "\n",
    "solver = RayleighSolver3D(*(Disk3D()))\n",
    "\n",
    "boundaryCondition = BoundaryCondition(solver.aElement.shape[0])\n",
    "boundaryCondition.alpha.fill(0.0)\n",
    "boundaryCondition.beta.fill(1.0)\n",
    "boundaryCondition.f.fill(1.0)\n",
    "\n",
    "solution = solver.solveBoundary(k, boundaryCondition)\n",
    "phi = solver.solveSamples(solution, samplePoints)\n",
    "pressure = soundPressure(k, phi)\n",
    "decibels = SoundMagnitude(pressure)\n",
    "\n",
    "ax = plt.subplot(111, projection='polar')\n",
    "ax.plot(angles, np.abs(pressure))\n",
    "ax.set_rmax(120)\n",
    "ax.set_rticks(np.linspace(0, np.max(np.abs(pressure)), 10))\n",
    "ax.set_rlabel_position(-22.5)  # get radial labels away from plotted line\n",
    "ax.grid(True)\n",
    "\n",
    "ax.set_title(\"A line plot on a polar axis\", va='bottom')\n",
    "plt.show()\n",
    "\n",
    "print(decibels)"
   ]
  },
  {
   "cell_type": "code",
   "execution_count": null,
   "metadata": {},
   "outputs": [],
   "source": [
    "\n"
   ]
  },
  {
   "cell_type": "code",
   "execution_count": null,
   "metadata": {},
   "outputs": [],
   "source": []
  }
 ],
 "metadata": {
  "kernelspec": {
   "display_name": "Python 3",
   "language": "python",
   "name": "python3"
  },
  "language_info": {
   "codemirror_mode": {
    "name": "ipython",
    "version": 3
   },
   "file_extension": ".py",
   "mimetype": "text/x-python",
   "name": "python",
   "nbconvert_exporter": "python",
   "pygments_lexer": "ipython3",
   "version": "3.6.5"
  }
 },
 "nbformat": 4,
 "nbformat_minor": 2
}
