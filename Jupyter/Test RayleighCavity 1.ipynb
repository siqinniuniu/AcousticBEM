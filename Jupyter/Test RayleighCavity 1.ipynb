{
 "cells": [
  {
   "cell_type": "code",
   "execution_count": null,
   "metadata": {
    "scrolled": false
   },
   "outputs": [],
   "source": [
    "import numpy as np\n",
    "from ExampleBoundaries import truncated_sphere\n",
    "from AcousticProperties import *\n",
    "from RayleighCavitySolver3D import *\n",
    "\n",
    "import matplotlib.pyplot as plt\n",
    "%matplotlib inline\n",
    "\n",
    "f = 50.0 # Hertz\n",
    "k = frequency_to_wavenumber(f)\n",
    "\n",
    "solver = RayleighCavitySolver3D(truncated_sphere())\n",
    "boundary_condition = solver.neumann_boundary_condition()\n",
    "\n",
    "boundary_elements = solver.len()\n",
    "for i in range(boundary_elements):\n",
    "    if i >= boundary_elements - 6: \n",
    "        # last 6 triangles in element array are radiating\n",
    "        boundary_condition.f[i] = 1.0\n",
    "    else:\n",
    "        boundary_condition.f[i] = 0.0\n",
    "        \n",
    "exterior_points = np.array([[0.0000, 0.0000, 1.0000],\n",
    "                           [0.0000, 0.0000, 2.0000],\n",
    "                           [0.0000, 0.0000, 10.000]], dtype=np.float32)\n",
    "\n",
    "interior_points = np.array([[0.5000, 0.0000, 0.0000],\n",
    "                           [0.0000, 0.0000, 0.0100],\n",
    "                           [0.0000, 0.0000, 0.2500],\n",
    "                           [0.0000, 0.0000, 0.5000]], dtype=np.float32)\n",
    "\n",
    "solution = solver.solve_boundary(k, boundary_condition)\n",
    "\n",
    "print(solution)\n",
    "\n",
    "interior_phi = solution.solve_cavity(interior_points)\n",
    "print(\"Sound pressure at the interior points\\n\")\n",
    "print(interior_phi)\n",
    "\n",
    "exterior_phi = solution.solve_samples(exterior_points)\n",
    "print(\"Sound pressure at the exterior points\\n\")\n",
    "print(exterior_phi)"
   ]
  },
  {
   "cell_type": "markdown",
   "metadata": {},
   "source": [
    "Copyright (C) 2019 Frank Jargstorff\n",
    "\n",
    "This file is part of the AcousticBEM library.\n",
    "\n",
    "AcousticBEM is free software: you can redistribute it and/or modify it under the terms of the GNU General Public License as published by the Free Software Foundation, either version 3 of the License, or (at your option) any later version.\n",
    "\n",
    "AcousticBEM is distributed in the hope that it will be useful, but WITHOUT ANY WARRANTY; without even the implied warranty of MERCHANTABILITY or FITNESS FOR A PARTICULAR PURPOSE. See the GNU General Public License for more details.\n",
    "\n",
    "You should have received a copy of the GNU General Public License along with AcousticBEM. If not, see http://www.gnu.org/licenses/."
   ]
  }
 ],
 "metadata": {
  "kernelspec": {
   "display_name": "Python 3",
   "language": "python",
   "name": "python3"
  },
  "language_info": {
   "codemirror_mode": {
    "name": "ipython",
    "version": 3
   },
   "file_extension": ".py",
   "mimetype": "text/x-python",
   "name": "python",
   "nbconvert_exporter": "python",
   "pygments_lexer": "ipython3",
   "version": "3.6.8"
  }
 },
 "nbformat": 4,
 "nbformat_minor": 2
}
