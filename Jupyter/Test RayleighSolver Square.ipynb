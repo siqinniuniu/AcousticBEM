{
 "cells": [
  {
   "cell_type": "code",
   "execution_count": null,
   "metadata": {},
   "outputs": [],
   "source": [
    "import numpy as np\n",
    "from ExampleBoundaries import square_3d\n",
    "from AcousticProperties import *\n",
    "from RayleighSolver import *\n",
    "\n",
    "import matplotlib.pyplot as plt\n",
    "%matplotlib inline\n",
    "\n",
    "def plot_radiation_ratio(title, wavenumbers, sigmas):\n",
    "    plt.rcParams['figure.figsize'] = [15, 10]\n",
    "    plt.title(title + ' - Radiation Ratio')\n",
    "    plt.plot(wavenumbers, sigmas, '-', label='BEM')\n",
    "    plt.xlabel('Wavenumber k')\n",
    "    plt.ylabel('Radition Ratio')\n",
    "    plt.show()\n",
    "\n",
    "\n",
    "exterior_point = np.array([[0.5, 0.5, 0.1]], dtype=np.float32)\n",
    "\n",
    "# Test Problem 1\n",
    "\n",
    "solver = RayleighSolver3D(square_3d())\n",
    "\n",
    "boundary_condition = solver.neumann_boundary_condition()\n",
    "boundary_condition.f.fill(1.0)\n",
    "\n",
    "wavenumbers = np.empty(100, dtype=np.float32)\n",
    "sigmas = np.empty(100, dtype=np.float32)\n",
    "for i in range(100):\n",
    "    f = 10 * (i+1)\n",
    "    k = frequency_to_wavenumber(f)\n",
    "    solution = solver.solve_boundary(k, boundary_condition)\n",
    "    wavenumbers[i] = k\n",
    "    sigmas[i] = solution.radiation_ratio()\n",
    "\n",
    "plot_radiation_ratio('Uniform Square', wavenumbers, sigmas)\n",
    "\n",
    "# Test Problem 2\n",
    "\n",
    "solver = RayleighSolver3D(square_3d())\n",
    "\n",
    "boundary_condition = solver.neumann_boundary_condition()\n",
    "boundary_condition.f = np.sin(np.pi * solver.centers[:, 0]) * np.sin(np.pi * solver.centers[:, 1])\n",
    "\n",
    "wavenumbers = np.empty(100, dtype=np.float32)\n",
    "sigmas = np.empty(100, dtype=np.float32)\n",
    "for i in range(100):\n",
    "    f = 10 * (i+1)\n",
    "    k = frequency_to_wavenumber(f)\n",
    "    solution = solver.solve_boundary(k, boundary_condition)\n",
    "    wavenumbers[i] = k\n",
    "    sigmas[i] = solution.radiation_ratio()\n",
    "\n",
    "plot_radiation_ratio('sin-sin Square', wavenumbers, sigmas)\n"
   ]
  },
  {
   "cell_type": "markdown",
   "metadata": {},
   "source": [
    "Copyright (C) 2019 Frank Jargstorff\n",
    "\n",
    "This file is part of the AcousticBEM library.\n",
    "\n",
    "AcousticBEM is free software: you can redistribute it and/or modify it under the terms of the GNU General Public License as published by the Free Software Foundation, either version 3 of the License, or (at your option) any later version.\n",
    "\n",
    "AcousticBEM is distributed in the hope that it will be useful, but WITHOUT ANY WARRANTY; without even the implied warranty of MERCHANTABILITY or FITNESS FOR A PARTICULAR PURPOSE. See the GNU General Public License for more details.\n",
    "\n",
    "You should have received a copy of the GNU General Public License along with AcousticBEM. If not, see http://www.gnu.org/licenses/."
   ]
  }
 ],
 "metadata": {
  "kernelspec": {
   "display_name": "Python 3",
   "language": "python",
   "name": "python3"
  },
  "language_info": {
   "codemirror_mode": {
    "name": "ipython",
    "version": 3
   },
   "file_extension": ".py",
   "mimetype": "text/x-python",
   "name": "python",
   "nbconvert_exporter": "python",
   "pygments_lexer": "ipython3",
   "version": "3.6.8"
  }
 },
 "nbformat": 4,
 "nbformat_minor": 2
}
